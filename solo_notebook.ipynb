{
 "cells": [
  {
   "cell_type": "markdown",
   "id": "supposed-freeze",
   "metadata": {},
   "source": [
    "# Solomon's notebook - Turnover\n",
    "## To visualize percentage share of most traded stock in HKEX for the last 5 trading days."
   ]
  },
  {
   "cell_type": "code",
   "execution_count": null,
   "id": "eleven-advertising",
   "metadata": {},
   "outputs": [],
   "source": [
    "from datetime import datetime, timedelta\n",
    "import pandas as pd\n",
    "import plotly.express as px\n",
    "\n",
    "from lib import hkexquotations as hkex\n",
    "from lib import holidays\n",
    "from lib.hkexquotations import NoQuotationsException\n",
    "\n",
    "today = datetime.now()\n",
    "yesterday = today - timedelta(days=1)\n",
    "end_day = today\n",
    "\n",
    "try:\n",
    "    hkex.get_price(today)\n",
    "except NoQuotationsException:\n",
    "    end_day = yesterday\n",
    "    \n",
    "yesterday = datetime.now() - timedelta(days=1)\n",
    "bdates = pd.bdate_range(end=end_day, periods=5, holidays=holidays.hk_holidays, freq='C')\n",
    "\n",
    "topN = 20"
   ]
  },
  {
   "cell_type": "code",
   "execution_count": null,
   "id": "latest-matter",
   "metadata": {},
   "outputs": [],
   "source": [
    "df = hkex.get_price(bdates[4])\n",
    "df = df.nlargest(topN, ['turnover'])\n",
    "pie = px.pie(df, names='code', values='turnover', title=f\"Turnover Share of the top {topN} as of date {bdates[4]:%Y-%m-%d}\")\n",
    "pie.update_traces(textposition='inside', textinfo='percent+label')\n",
    "\n",
    "pie.show()"
   ]
  },
  {
   "cell_type": "code",
   "execution_count": null,
   "id": "residential-engagement",
   "metadata": {},
   "outputs": [],
   "source": [
    "df = hkex.get_price(bdates[3])\n",
    "df = df.nlargest(topN, ['turnover'])\n",
    "pie = px.pie(df, names='code', values='turnover', title=f\"Turnover Share of the top {topN} as of date {bdates[3]:%Y-%m-%d}\")\n",
    "pie.update_traces(textposition='inside', textinfo='percent+label')\n",
    "\n",
    "pie.show()"
   ]
  },
  {
   "cell_type": "code",
   "execution_count": null,
   "id": "alive-tuner",
   "metadata": {},
   "outputs": [],
   "source": [
    "df = hkex.get_price(bdates[2])\n",
    "df = df.nlargest(topN, ['turnover'])\n",
    "pie = px.pie(df, names='code', values='turnover', title=f\"Turnover Share of the top {topN} as of date {bdates[2]:%Y-%m-%d}\")\n",
    "pie.update_traces(textposition='inside', textinfo='percent+label')\n",
    "\n",
    "pie.show()"
   ]
  },
  {
   "cell_type": "code",
   "execution_count": null,
   "id": "orange-seating",
   "metadata": {},
   "outputs": [],
   "source": [
    "df = hkex.get_price(bdates[1])\n",
    "df = df.nlargest(topN, ['turnover'])\n",
    "pie = px.pie(df, names='code', values='turnover', title=f\"Turnover Share of the top {topN} as of date {bdates[1]:%Y-%m-%d}\")\n",
    "pie.update_traces(textposition='inside', textinfo='percent+label')\n",
    "\n",
    "pie.show()"
   ]
  },
  {
   "cell_type": "code",
   "execution_count": null,
   "id": "welcome-championship",
   "metadata": {},
   "outputs": [],
   "source": [
    "df = hkex.get_price(bdates[0])\n",
    "df = df.nlargest(topN, ['turnover'])\n",
    "pie = px.pie(df, names='code', values='turnover', title=f\"Turnover Share of the top {topN} as of date {bdates[0]:%Y-%m-%d}\")\n",
    "pie.update_traces(textposition='inside', textinfo='percent+label')\n",
    "\n",
    "pie.show()"
   ]
  },
  {
   "cell_type": "code",
   "execution_count": null,
   "id": "medium-closer",
   "metadata": {},
   "outputs": [],
   "source": []
  }
 ],
 "metadata": {
  "kernelspec": {
   "display_name": "Python 3",
   "language": "python",
   "name": "python3"
  },
  "language_info": {
   "codemirror_mode": {
    "name": "ipython",
    "version": 3
   },
   "file_extension": ".py",
   "mimetype": "text/x-python",
   "name": "python",
   "nbconvert_exporter": "python",
   "pygments_lexer": "ipython3",
   "version": "3.8.1"
  }
 },
 "nbformat": 4,
 "nbformat_minor": 5
}