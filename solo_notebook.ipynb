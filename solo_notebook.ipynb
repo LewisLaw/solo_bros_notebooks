{
 "cells": [
  {
   "cell_type": "markdown",
   "id": "supposed-freeze",
   "metadata": {},
   "source": [
    "# Solomon's notebook - Turnover\n",
    "## To visualize percentage share of most traded stock in HKEX for the last 5 trading days."
   ]
  },
  {
   "cell_type": "code",
   "execution_count": 13,
   "id": "eleven-advertising",
   "metadata": {
    "scrolled": true
   },
   "outputs": [],
   "source": [
    "from datetime import datetime, timedelta\n",
    "import pandas as pd\n",
    "import plotly.express as px\n",
    "\n",
    "from lib import hkexquotations as hkex\n",
    "from lib import holidays\n",
    "from lib.hkexquotations import NoQuotationsException\n",
    "\n",
    "today = datetime.now()\n",
    "yesterday = today - timedelta(days=1)\n",
    "\n",
    "topN = 20\n",
    "\n",
    "try:\n",
    "    dfs = map(hkex.get_price, pd.bdate_range(end=today, periods=5, holidays=holidays.hk_holidays, freq='C'))\n",
    "except NoQuotationsException:\n",
    "    dfs = map(hkex.get_price, pd.bdate_range(end=yesterday, periods=5, holidays=holidays.hk_holidays, freq='C'))\n",
    "    \n",
    "dfs = map(lambda df: df.nlargest(topN, ['turnover']), dfs)    \n",
    "df = pd.concat(dfs, ignore_index=True)"
   ]
  },
  {
   "cell_type": "code",
   "execution_count": 36,
   "id": "distant-residence",
   "metadata": {},
   "outputs": [
    {
     "name": "stdout",
     "output_type": "stream",
     "text": [
      "Help on function sunburst in module plotly.express._chart_types:\n",
      "\n",
      "sunburst(data_frame=None, names=None, values=None, parents=None, path=None, ids=None, color=None, color_continuous_scale=None, range_color=None, color_continuous_midpoint=None, color_discrete_sequence=None, color_discrete_map=None, hover_name=None, hover_data=None, custom_data=None, labels=None, title=None, template=None, width=None, height=None, branchvalues=None, maxdepth=None)\n",
      "        A sunburst plot represents hierarchial data as sectors laid out over\n",
      "        several levels of concentric rings.\n",
      "        \n",
      "    Parameters\n",
      "    ----------\n",
      "    data_frame: DataFrame or array-like or dict\n",
      "        This argument needs to be passed for column names (and not keyword\n",
      "        names) to be used. Array-like and dict are tranformed internally to a\n",
      "        pandas DataFrame. Optional: if missing, a DataFrame gets constructed\n",
      "        under the hood using the other arguments.\n",
      "    names: str or int or Series or array-like\n",
      "        Either a name of a column in `data_frame`, or a pandas Series or\n",
      "        array_like object. Values from this column or array_like are used as\n",
      "        labels for sectors.\n",
      "    values: str or int or Series or array-like\n",
      "        Either a name of a column in `data_frame`, or a pandas Series or\n",
      "        array_like object. Values from this column or array_like are used to\n",
      "        set values associated to sectors.\n",
      "    parents: str or int or Series or array-like\n",
      "        Either a name of a column in `data_frame`, or a pandas Series or\n",
      "        array_like object. Values from this column or array_like are used as\n",
      "        parents in sunburst and treemap charts.\n",
      "    path: list of str or int, or Series or array-like\n",
      "        Either names of columns in `data_frame`, or pandas Series, or\n",
      "        array_like objects List of columns names or columns of a rectangular\n",
      "        dataframe defining the hierarchy of sectors, from root to leaves. An\n",
      "        error is raised if path AND ids or parents is passed\n",
      "    ids: str or int or Series or array-like\n",
      "        Either a name of a column in `data_frame`, or a pandas Series or\n",
      "        array_like object. Values from this column or array_like are used to\n",
      "        set ids of sectors\n",
      "    color: str or int or Series or array-like\n",
      "        Either a name of a column in `data_frame`, or a pandas Series or\n",
      "        array_like object. Values from this column or array_like are used to\n",
      "        assign color to marks.\n",
      "    color_continuous_scale: list of str\n",
      "        Strings should define valid CSS-colors This list is used to build a\n",
      "        continuous color scale when the column denoted by `color` contains\n",
      "        numeric data. Various useful color scales are available in the\n",
      "        `plotly.express.colors` submodules, specifically\n",
      "        `plotly.express.colors.sequential`, `plotly.express.colors.diverging`\n",
      "        and `plotly.express.colors.cyclical`.\n",
      "    range_color: list of two numbers\n",
      "        If provided, overrides auto-scaling on the continuous color scale.\n",
      "    color_continuous_midpoint: number (default `None`)\n",
      "        If set, computes the bounds of the continuous color scale to have the\n",
      "        desired midpoint. Setting this value is recommended when using\n",
      "        `plotly.express.colors.diverging` color scales as the inputs to\n",
      "        `color_continuous_scale`.\n",
      "    color_discrete_sequence: list of str\n",
      "        Strings should define valid CSS-colors. When `color` is set and the\n",
      "        values in the corresponding column are not numeric, values in that\n",
      "        column are assigned colors by cycling through `color_discrete_sequence`\n",
      "        in the order described in `category_orders`, unless the value of\n",
      "        `color` is a key in `color_discrete_map`. Various useful color\n",
      "        sequences are available in the `plotly.express.colors` submodules,\n",
      "        specifically `plotly.express.colors.qualitative`.\n",
      "    color_discrete_map: dict with str keys and str values (default `{}`)\n",
      "        String values should define valid CSS-colors Used to override\n",
      "        `color_discrete_sequence` to assign a specific colors to marks\n",
      "        corresponding with specific values. Keys in `color_discrete_map` should\n",
      "        be values in the column denoted by `color`. Alternatively, if the\n",
      "        values of `color` are valid colors, the string `'identity'` may be\n",
      "        passed to cause them to be used directly.\n",
      "    hover_name: str or int or Series or array-like\n",
      "        Either a name of a column in `data_frame`, or a pandas Series or\n",
      "        array_like object. Values from this column or array_like appear in bold\n",
      "        in the hover tooltip.\n",
      "    hover_data: list of str or int, or Series or array-like, or dict\n",
      "        Either a list of names of columns in `data_frame`, or pandas Series, or\n",
      "        array_like objects or a dict with column names as keys, with values\n",
      "        True (for default formatting) False (in order to remove this column\n",
      "        from hover information), or a formatting string, for example ':.3f' or\n",
      "        '|%a' or list-like data to appear in the hover tooltip or tuples with a\n",
      "        bool or formatting string as first element, and list-like data to\n",
      "        appear in hover as second element Values from these columns appear as\n",
      "        extra data in the hover tooltip.\n",
      "    custom_data: list of str or int, or Series or array-like\n",
      "        Either names of columns in `data_frame`, or pandas Series, or\n",
      "        array_like objects Values from these columns are extra data, to be used\n",
      "        in widgets or Dash callbacks for example. This data is not user-visible\n",
      "        but is included in events emitted by the figure (lasso selection etc.)\n",
      "    labels: dict with str keys and str values (default `{}`)\n",
      "        By default, column names are used in the figure for axis titles, legend\n",
      "        entries and hovers. This parameter allows this to be overridden. The\n",
      "        keys of this dict should correspond to column names, and the values\n",
      "        should correspond to the desired label to be displayed.\n",
      "    title: str\n",
      "        The figure title.\n",
      "    template: str or dict or plotly.graph_objects.layout.Template instance\n",
      "        The figure template name (must be a key in plotly.io.templates) or\n",
      "        definition.\n",
      "    width: int (default `None`)\n",
      "        The figure width in pixels.\n",
      "    height: int (default `None`)\n",
      "        The figure height in pixels.\n",
      "    branchvalues: str\n",
      "        'total' or 'remainder' Determines how the items in `values` are summed.\n",
      "        Whenset to 'total', items in `values` are taken to be valueof all its\n",
      "        descendants. When set to 'remainder', itemsin `values` corresponding to\n",
      "        the root and the branches:sectors are taken to be the extra part not\n",
      "        part of thesum of the values at their leaves.\n",
      "    maxdepth: int\n",
      "        Positive integer Sets the number of rendered sectors from any given\n",
      "        `level`. Set `maxdepth` to -1 to render all thelevels in the hierarchy.\n",
      "    \n",
      "    Returns\n",
      "    -------\n",
      "        plotly.graph_objects.Figure\n",
      "\n"
     ]
    }
   ],
   "source": [
    "help(px.sunburst)"
   ]
  },
  {
   "cell_type": "code",
   "execution_count": 39,
   "id": "passive-ethernet",
   "metadata": {},
   "outputs": [
    {
     "data": {
      "application/vnd.plotly.v1+json": {
       "config": {
        "plotlyServerURL": "https://plot.ly"
       },
       "data": [
        {
         "branchvalues": "total",
         "domain": {
          "x": [
           0,
           1
          ],
          "y": [
           0,
           1
          ]
         },
         "hovertemplate": "labels=%{label}<br>turnover=%{value}<br>parent=%{parent}<br>id=%{id}<extra></extra>",
         "ids": [
          "stock/1024",
          "stock/1093",
          "stock/1211",
          "stock/1299",
          "stock/136",
          "stock/1398",
          "stock/175",
          "stock/1810",
          "stock/1833",
          "stock/2160",
          "stock/2269",
          "stock/2318",
          "stock/2333",
          "stock/2382",
          "stock/27",
          "stock/2800",
          "stock/3690",
          "stock/3800",
          "stock/388",
          "stock/6855",
          "stock/6969",
          "stock/700",
          "stock/883",
          "stock/939",
          "stock/941",
          "stock/9618",
          "stock/981",
          "stock/992",
          "stock/9988",
          "stock"
         ],
         "labels": [
          "1024",
          "1093",
          "1211",
          "1299",
          "136",
          "1398",
          "175",
          "1810",
          "1833",
          "2160",
          "2269",
          "2318",
          "2333",
          "2382",
          "27",
          "2800",
          "3690",
          "3800",
          "388",
          "6855",
          "6969",
          "700",
          "883",
          "939",
          "941",
          "9618",
          "981",
          "992",
          "9988",
          "stock"
         ],
         "name": "",
         "parents": [
          "stock",
          "stock",
          "stock",
          "stock",
          "stock",
          "stock",
          "stock",
          "stock",
          "stock",
          "stock",
          "stock",
          "stock",
          "stock",
          "stock",
          "stock",
          "stock",
          "stock",
          "stock",
          "stock",
          "stock",
          "stock",
          "stock",
          "stock",
          "stock",
          "stock",
          "stock",
          "stock",
          "stock",
          "stock",
          ""
         ],
         "type": "sunburst",
         "values": [
          46047721081,
          1573868471,
          21495817066,
          8956246486,
          2610966694,
          1524075461,
          9530054300,
          39410467770,
          3939368292,
          3780696522,
          14970154523,
          19476325556,
          1746172438,
          5671967951,
          5302551430,
          17977803618,
          43043086315,
          25093171736,
          15748952714,
          1929057175,
          9817675224,
          73971479797,
          16066726629,
          6888560253,
          13785309252,
          7478046720,
          18712508111,
          1894721174,
          54850320305,
          493293873064
         ]
        }
       ],
       "layout": {
        "legend": {
         "tracegroupgap": 0
        },
        "margin": {
         "t": 60
        },
        "template": {
         "data": {
          "bar": [
           {
            "error_x": {
             "color": "#2a3f5f"
            },
            "error_y": {
             "color": "#2a3f5f"
            },
            "marker": {
             "line": {
              "color": "#E5ECF6",
              "width": 0.5
             }
            },
            "type": "bar"
           }
          ],
          "barpolar": [
           {
            "marker": {
             "line": {
              "color": "#E5ECF6",
              "width": 0.5
             }
            },
            "type": "barpolar"
           }
          ],
          "carpet": [
           {
            "aaxis": {
             "endlinecolor": "#2a3f5f",
             "gridcolor": "white",
             "linecolor": "white",
             "minorgridcolor": "white",
             "startlinecolor": "#2a3f5f"
            },
            "baxis": {
             "endlinecolor": "#2a3f5f",
             "gridcolor": "white",
             "linecolor": "white",
             "minorgridcolor": "white",
             "startlinecolor": "#2a3f5f"
            },
            "type": "carpet"
           }
          ],
          "choropleth": [
           {
            "colorbar": {
             "outlinewidth": 0,
             "ticks": ""
            },
            "type": "choropleth"
           }
          ],
          "contour": [
           {
            "colorbar": {
             "outlinewidth": 0,
             "ticks": ""
            },
            "colorscale": [
             [
              0,
              "#0d0887"
             ],
             [
              0.1111111111111111,
              "#46039f"
             ],
             [
              0.2222222222222222,
              "#7201a8"
             ],
             [
              0.3333333333333333,
              "#9c179e"
             ],
             [
              0.4444444444444444,
              "#bd3786"
             ],
             [
              0.5555555555555556,
              "#d8576b"
             ],
             [
              0.6666666666666666,
              "#ed7953"
             ],
             [
              0.7777777777777778,
              "#fb9f3a"
             ],
             [
              0.8888888888888888,
              "#fdca26"
             ],
             [
              1,
              "#f0f921"
             ]
            ],
            "type": "contour"
           }
          ],
          "contourcarpet": [
           {
            "colorbar": {
             "outlinewidth": 0,
             "ticks": ""
            },
            "type": "contourcarpet"
           }
          ],
          "heatmap": [
           {
            "colorbar": {
             "outlinewidth": 0,
             "ticks": ""
            },
            "colorscale": [
             [
              0,
              "#0d0887"
             ],
             [
              0.1111111111111111,
              "#46039f"
             ],
             [
              0.2222222222222222,
              "#7201a8"
             ],
             [
              0.3333333333333333,
              "#9c179e"
             ],
             [
              0.4444444444444444,
              "#bd3786"
             ],
             [
              0.5555555555555556,
              "#d8576b"
             ],
             [
              0.6666666666666666,
              "#ed7953"
             ],
             [
              0.7777777777777778,
              "#fb9f3a"
             ],
             [
              0.8888888888888888,
              "#fdca26"
             ],
             [
              1,
              "#f0f921"
             ]
            ],
            "type": "heatmap"
           }
          ],
          "heatmapgl": [
           {
            "colorbar": {
             "outlinewidth": 0,
             "ticks": ""
            },
            "colorscale": [
             [
              0,
              "#0d0887"
             ],
             [
              0.1111111111111111,
              "#46039f"
             ],
             [
              0.2222222222222222,
              "#7201a8"
             ],
             [
              0.3333333333333333,
              "#9c179e"
             ],
             [
              0.4444444444444444,
              "#bd3786"
             ],
             [
              0.5555555555555556,
              "#d8576b"
             ],
             [
              0.6666666666666666,
              "#ed7953"
             ],
             [
              0.7777777777777778,
              "#fb9f3a"
             ],
             [
              0.8888888888888888,
              "#fdca26"
             ],
             [
              1,
              "#f0f921"
             ]
            ],
            "type": "heatmapgl"
           }
          ],
          "histogram": [
           {
            "marker": {
             "colorbar": {
              "outlinewidth": 0,
              "ticks": ""
             }
            },
            "type": "histogram"
           }
          ],
          "histogram2d": [
           {
            "colorbar": {
             "outlinewidth": 0,
             "ticks": ""
            },
            "colorscale": [
             [
              0,
              "#0d0887"
             ],
             [
              0.1111111111111111,
              "#46039f"
             ],
             [
              0.2222222222222222,
              "#7201a8"
             ],
             [
              0.3333333333333333,
              "#9c179e"
             ],
             [
              0.4444444444444444,
              "#bd3786"
             ],
             [
              0.5555555555555556,
              "#d8576b"
             ],
             [
              0.6666666666666666,
              "#ed7953"
             ],
             [
              0.7777777777777778,
              "#fb9f3a"
             ],
             [
              0.8888888888888888,
              "#fdca26"
             ],
             [
              1,
              "#f0f921"
             ]
            ],
            "type": "histogram2d"
           }
          ],
          "histogram2dcontour": [
           {
            "colorbar": {
             "outlinewidth": 0,
             "ticks": ""
            },
            "colorscale": [
             [
              0,
              "#0d0887"
             ],
             [
              0.1111111111111111,
              "#46039f"
             ],
             [
              0.2222222222222222,
              "#7201a8"
             ],
             [
              0.3333333333333333,
              "#9c179e"
             ],
             [
              0.4444444444444444,
              "#bd3786"
             ],
             [
              0.5555555555555556,
              "#d8576b"
             ],
             [
              0.6666666666666666,
              "#ed7953"
             ],
             [
              0.7777777777777778,
              "#fb9f3a"
             ],
             [
              0.8888888888888888,
              "#fdca26"
             ],
             [
              1,
              "#f0f921"
             ]
            ],
            "type": "histogram2dcontour"
           }
          ],
          "mesh3d": [
           {
            "colorbar": {
             "outlinewidth": 0,
             "ticks": ""
            },
            "type": "mesh3d"
           }
          ],
          "parcoords": [
           {
            "line": {
             "colorbar": {
              "outlinewidth": 0,
              "ticks": ""
             }
            },
            "type": "parcoords"
           }
          ],
          "pie": [
           {
            "automargin": true,
            "type": "pie"
           }
          ],
          "scatter": [
           {
            "marker": {
             "colorbar": {
              "outlinewidth": 0,
              "ticks": ""
             }
            },
            "type": "scatter"
           }
          ],
          "scatter3d": [
           {
            "line": {
             "colorbar": {
              "outlinewidth": 0,
              "ticks": ""
             }
            },
            "marker": {
             "colorbar": {
              "outlinewidth": 0,
              "ticks": ""
             }
            },
            "type": "scatter3d"
           }
          ],
          "scattercarpet": [
           {
            "marker": {
             "colorbar": {
              "outlinewidth": 0,
              "ticks": ""
             }
            },
            "type": "scattercarpet"
           }
          ],
          "scattergeo": [
           {
            "marker": {
             "colorbar": {
              "outlinewidth": 0,
              "ticks": ""
             }
            },
            "type": "scattergeo"
           }
          ],
          "scattergl": [
           {
            "marker": {
             "colorbar": {
              "outlinewidth": 0,
              "ticks": ""
             }
            },
            "type": "scattergl"
           }
          ],
          "scattermapbox": [
           {
            "marker": {
             "colorbar": {
              "outlinewidth": 0,
              "ticks": ""
             }
            },
            "type": "scattermapbox"
           }
          ],
          "scatterpolar": [
           {
            "marker": {
             "colorbar": {
              "outlinewidth": 0,
              "ticks": ""
             }
            },
            "type": "scatterpolar"
           }
          ],
          "scatterpolargl": [
           {
            "marker": {
             "colorbar": {
              "outlinewidth": 0,
              "ticks": ""
             }
            },
            "type": "scatterpolargl"
           }
          ],
          "scatterternary": [
           {
            "marker": {
             "colorbar": {
              "outlinewidth": 0,
              "ticks": ""
             }
            },
            "type": "scatterternary"
           }
          ],
          "surface": [
           {
            "colorbar": {
             "outlinewidth": 0,
             "ticks": ""
            },
            "colorscale": [
             [
              0,
              "#0d0887"
             ],
             [
              0.1111111111111111,
              "#46039f"
             ],
             [
              0.2222222222222222,
              "#7201a8"
             ],
             [
              0.3333333333333333,
              "#9c179e"
             ],
             [
              0.4444444444444444,
              "#bd3786"
             ],
             [
              0.5555555555555556,
              "#d8576b"
             ],
             [
              0.6666666666666666,
              "#ed7953"
             ],
             [
              0.7777777777777778,
              "#fb9f3a"
             ],
             [
              0.8888888888888888,
              "#fdca26"
             ],
             [
              1,
              "#f0f921"
             ]
            ],
            "type": "surface"
           }
          ],
          "table": [
           {
            "cells": {
             "fill": {
              "color": "#EBF0F8"
             },
             "line": {
              "color": "white"
             }
            },
            "header": {
             "fill": {
              "color": "#C8D4E3"
             },
             "line": {
              "color": "white"
             }
            },
            "type": "table"
           }
          ]
         },
         "layout": {
          "annotationdefaults": {
           "arrowcolor": "#2a3f5f",
           "arrowhead": 0,
           "arrowwidth": 1
          },
          "autotypenumbers": "strict",
          "coloraxis": {
           "colorbar": {
            "outlinewidth": 0,
            "ticks": ""
           }
          },
          "colorscale": {
           "diverging": [
            [
             0,
             "#8e0152"
            ],
            [
             0.1,
             "#c51b7d"
            ],
            [
             0.2,
             "#de77ae"
            ],
            [
             0.3,
             "#f1b6da"
            ],
            [
             0.4,
             "#fde0ef"
            ],
            [
             0.5,
             "#f7f7f7"
            ],
            [
             0.6,
             "#e6f5d0"
            ],
            [
             0.7,
             "#b8e186"
            ],
            [
             0.8,
             "#7fbc41"
            ],
            [
             0.9,
             "#4d9221"
            ],
            [
             1,
             "#276419"
            ]
           ],
           "sequential": [
            [
             0,
             "#0d0887"
            ],
            [
             0.1111111111111111,
             "#46039f"
            ],
            [
             0.2222222222222222,
             "#7201a8"
            ],
            [
             0.3333333333333333,
             "#9c179e"
            ],
            [
             0.4444444444444444,
             "#bd3786"
            ],
            [
             0.5555555555555556,
             "#d8576b"
            ],
            [
             0.6666666666666666,
             "#ed7953"
            ],
            [
             0.7777777777777778,
             "#fb9f3a"
            ],
            [
             0.8888888888888888,
             "#fdca26"
            ],
            [
             1,
             "#f0f921"
            ]
           ],
           "sequentialminus": [
            [
             0,
             "#0d0887"
            ],
            [
             0.1111111111111111,
             "#46039f"
            ],
            [
             0.2222222222222222,
             "#7201a8"
            ],
            [
             0.3333333333333333,
             "#9c179e"
            ],
            [
             0.4444444444444444,
             "#bd3786"
            ],
            [
             0.5555555555555556,
             "#d8576b"
            ],
            [
             0.6666666666666666,
             "#ed7953"
            ],
            [
             0.7777777777777778,
             "#fb9f3a"
            ],
            [
             0.8888888888888888,
             "#fdca26"
            ],
            [
             1,
             "#f0f921"
            ]
           ]
          },
          "colorway": [
           "#636efa",
           "#EF553B",
           "#00cc96",
           "#ab63fa",
           "#FFA15A",
           "#19d3f3",
           "#FF6692",
           "#B6E880",
           "#FF97FF",
           "#FECB52"
          ],
          "font": {
           "color": "#2a3f5f"
          },
          "geo": {
           "bgcolor": "white",
           "lakecolor": "white",
           "landcolor": "#E5ECF6",
           "showlakes": true,
           "showland": true,
           "subunitcolor": "white"
          },
          "hoverlabel": {
           "align": "left"
          },
          "hovermode": "closest",
          "mapbox": {
           "style": "light"
          },
          "paper_bgcolor": "white",
          "plot_bgcolor": "#E5ECF6",
          "polar": {
           "angularaxis": {
            "gridcolor": "white",
            "linecolor": "white",
            "ticks": ""
           },
           "bgcolor": "#E5ECF6",
           "radialaxis": {
            "gridcolor": "white",
            "linecolor": "white",
            "ticks": ""
           }
          },
          "scene": {
           "xaxis": {
            "backgroundcolor": "#E5ECF6",
            "gridcolor": "white",
            "gridwidth": 2,
            "linecolor": "white",
            "showbackground": true,
            "ticks": "",
            "zerolinecolor": "white"
           },
           "yaxis": {
            "backgroundcolor": "#E5ECF6",
            "gridcolor": "white",
            "gridwidth": 2,
            "linecolor": "white",
            "showbackground": true,
            "ticks": "",
            "zerolinecolor": "white"
           },
           "zaxis": {
            "backgroundcolor": "#E5ECF6",
            "gridcolor": "white",
            "gridwidth": 2,
            "linecolor": "white",
            "showbackground": true,
            "ticks": "",
            "zerolinecolor": "white"
           }
          },
          "shapedefaults": {
           "line": {
            "color": "#2a3f5f"
           }
          },
          "ternary": {
           "aaxis": {
            "gridcolor": "white",
            "linecolor": "white",
            "ticks": ""
           },
           "baxis": {
            "gridcolor": "white",
            "linecolor": "white",
            "ticks": ""
           },
           "bgcolor": "#E5ECF6",
           "caxis": {
            "gridcolor": "white",
            "linecolor": "white",
            "ticks": ""
           }
          },
          "title": {
           "x": 0.05
          },
          "xaxis": {
           "automargin": true,
           "gridcolor": "white",
           "linecolor": "white",
           "ticks": "",
           "title": {
            "standoff": 15
           },
           "zerolinecolor": "white",
           "zerolinewidth": 2
          },
          "yaxis": {
           "automargin": true,
           "gridcolor": "white",
           "linecolor": "white",
           "ticks": "",
           "title": {
            "standoff": 15
           },
           "zerolinecolor": "white",
           "zerolinewidth": 2
          }
         }
        }
       }
      },
      "text/html": [
       "<div>                            <div id=\"e5a5cef6-7b63-41fe-b091-05ef1869f2e0\" class=\"plotly-graph-div\" style=\"height:525px; width:100%;\"></div>            <script type=\"text/javascript\">                require([\"plotly\"], function(Plotly) {                    window.PLOTLYENV=window.PLOTLYENV || {};                                    if (document.getElementById(\"e5a5cef6-7b63-41fe-b091-05ef1869f2e0\")) {                    Plotly.newPlot(                        \"e5a5cef6-7b63-41fe-b091-05ef1869f2e0\",                        [{\"branchvalues\": \"total\", \"domain\": {\"x\": [0.0, 1.0], \"y\": [0.0, 1.0]}, \"hovertemplate\": \"labels=%{label}<br>turnover=%{value}<br>parent=%{parent}<br>id=%{id}<extra></extra>\", \"ids\": [\"stock/1024\", \"stock/1093\", \"stock/1211\", \"stock/1299\", \"stock/136\", \"stock/1398\", \"stock/175\", \"stock/1810\", \"stock/1833\", \"stock/2160\", \"stock/2269\", \"stock/2318\", \"stock/2333\", \"stock/2382\", \"stock/27\", \"stock/2800\", \"stock/3690\", \"stock/3800\", \"stock/388\", \"stock/6855\", \"stock/6969\", \"stock/700\", \"stock/883\", \"stock/939\", \"stock/941\", \"stock/9618\", \"stock/981\", \"stock/992\", \"stock/9988\", \"stock\"], \"labels\": [\"1024\", \"1093\", \"1211\", \"1299\", \"136\", \"1398\", \"175\", \"1810\", \"1833\", \"2160\", \"2269\", \"2318\", \"2333\", \"2382\", \"27\", \"2800\", \"3690\", \"3800\", \"388\", \"6855\", \"6969\", \"700\", \"883\", \"939\", \"941\", \"9618\", \"981\", \"992\", \"9988\", \"stock\"], \"name\": \"\", \"parents\": [\"stock\", \"stock\", \"stock\", \"stock\", \"stock\", \"stock\", \"stock\", \"stock\", \"stock\", \"stock\", \"stock\", \"stock\", \"stock\", \"stock\", \"stock\", \"stock\", \"stock\", \"stock\", \"stock\", \"stock\", \"stock\", \"stock\", \"stock\", \"stock\", \"stock\", \"stock\", \"stock\", \"stock\", \"stock\", \"\"], \"type\": \"sunburst\", \"values\": [46047721081.0, 1573868471.0, 21495817066.0, 8956246486.0, 2610966694.0, 1524075461.0, 9530054300.0, 39410467770.0, 3939368292.0, 3780696522.0, 14970154523.0, 19476325556.0, 1746172438.0, 5671967951.0, 5302551430.0, 17977803618.0, 43043086315.0, 25093171736.0, 15748952714.0, 1929057175.0, 9817675224.0, 73971479797.0, 16066726629.0, 6888560253.0, 13785309252.0, 7478046720.0, 18712508111.0, 1894721174.0, 54850320305.0, 493293873064.0]}],                        {\"legend\": {\"tracegroupgap\": 0}, \"margin\": {\"t\": 60}, \"template\": {\"data\": {\"bar\": [{\"error_x\": {\"color\": \"#2a3f5f\"}, \"error_y\": {\"color\": \"#2a3f5f\"}, \"marker\": {\"line\": {\"color\": \"#E5ECF6\", \"width\": 0.5}}, \"type\": \"bar\"}], \"barpolar\": [{\"marker\": {\"line\": {\"color\": \"#E5ECF6\", \"width\": 0.5}}, \"type\": \"barpolar\"}], \"carpet\": [{\"aaxis\": {\"endlinecolor\": \"#2a3f5f\", \"gridcolor\": \"white\", \"linecolor\": \"white\", \"minorgridcolor\": \"white\", \"startlinecolor\": \"#2a3f5f\"}, \"baxis\": {\"endlinecolor\": \"#2a3f5f\", \"gridcolor\": \"white\", \"linecolor\": \"white\", \"minorgridcolor\": \"white\", \"startlinecolor\": \"#2a3f5f\"}, \"type\": \"carpet\"}], \"choropleth\": [{\"colorbar\": {\"outlinewidth\": 0, \"ticks\": \"\"}, \"type\": \"choropleth\"}], \"contour\": [{\"colorbar\": {\"outlinewidth\": 0, \"ticks\": \"\"}, \"colorscale\": [[0.0, \"#0d0887\"], [0.1111111111111111, \"#46039f\"], [0.2222222222222222, \"#7201a8\"], [0.3333333333333333, \"#9c179e\"], [0.4444444444444444, \"#bd3786\"], [0.5555555555555556, \"#d8576b\"], [0.6666666666666666, \"#ed7953\"], [0.7777777777777778, \"#fb9f3a\"], [0.8888888888888888, \"#fdca26\"], [1.0, \"#f0f921\"]], \"type\": \"contour\"}], \"contourcarpet\": [{\"colorbar\": {\"outlinewidth\": 0, \"ticks\": \"\"}, \"type\": \"contourcarpet\"}], \"heatmap\": [{\"colorbar\": {\"outlinewidth\": 0, \"ticks\": \"\"}, \"colorscale\": [[0.0, \"#0d0887\"], [0.1111111111111111, \"#46039f\"], [0.2222222222222222, \"#7201a8\"], [0.3333333333333333, \"#9c179e\"], [0.4444444444444444, \"#bd3786\"], [0.5555555555555556, \"#d8576b\"], [0.6666666666666666, \"#ed7953\"], [0.7777777777777778, \"#fb9f3a\"], [0.8888888888888888, \"#fdca26\"], [1.0, \"#f0f921\"]], \"type\": \"heatmap\"}], \"heatmapgl\": [{\"colorbar\": {\"outlinewidth\": 0, \"ticks\": \"\"}, \"colorscale\": [[0.0, \"#0d0887\"], [0.1111111111111111, \"#46039f\"], [0.2222222222222222, \"#7201a8\"], [0.3333333333333333, \"#9c179e\"], [0.4444444444444444, \"#bd3786\"], [0.5555555555555556, \"#d8576b\"], [0.6666666666666666, \"#ed7953\"], [0.7777777777777778, \"#fb9f3a\"], [0.8888888888888888, \"#fdca26\"], [1.0, \"#f0f921\"]], \"type\": \"heatmapgl\"}], \"histogram\": [{\"marker\": {\"colorbar\": {\"outlinewidth\": 0, \"ticks\": \"\"}}, \"type\": \"histogram\"}], \"histogram2d\": [{\"colorbar\": {\"outlinewidth\": 0, \"ticks\": \"\"}, \"colorscale\": [[0.0, \"#0d0887\"], [0.1111111111111111, \"#46039f\"], [0.2222222222222222, \"#7201a8\"], [0.3333333333333333, \"#9c179e\"], [0.4444444444444444, \"#bd3786\"], [0.5555555555555556, \"#d8576b\"], [0.6666666666666666, \"#ed7953\"], [0.7777777777777778, \"#fb9f3a\"], [0.8888888888888888, \"#fdca26\"], [1.0, \"#f0f921\"]], \"type\": \"histogram2d\"}], \"histogram2dcontour\": [{\"colorbar\": {\"outlinewidth\": 0, \"ticks\": \"\"}, \"colorscale\": [[0.0, \"#0d0887\"], [0.1111111111111111, \"#46039f\"], [0.2222222222222222, \"#7201a8\"], [0.3333333333333333, \"#9c179e\"], [0.4444444444444444, \"#bd3786\"], [0.5555555555555556, \"#d8576b\"], [0.6666666666666666, \"#ed7953\"], [0.7777777777777778, \"#fb9f3a\"], [0.8888888888888888, \"#fdca26\"], [1.0, \"#f0f921\"]], \"type\": \"histogram2dcontour\"}], \"mesh3d\": [{\"colorbar\": {\"outlinewidth\": 0, \"ticks\": \"\"}, \"type\": \"mesh3d\"}], \"parcoords\": [{\"line\": {\"colorbar\": {\"outlinewidth\": 0, \"ticks\": \"\"}}, \"type\": \"parcoords\"}], \"pie\": [{\"automargin\": true, \"type\": \"pie\"}], \"scatter\": [{\"marker\": {\"colorbar\": {\"outlinewidth\": 0, \"ticks\": \"\"}}, \"type\": \"scatter\"}], \"scatter3d\": [{\"line\": {\"colorbar\": {\"outlinewidth\": 0, \"ticks\": \"\"}}, \"marker\": {\"colorbar\": {\"outlinewidth\": 0, \"ticks\": \"\"}}, \"type\": \"scatter3d\"}], \"scattercarpet\": [{\"marker\": {\"colorbar\": {\"outlinewidth\": 0, \"ticks\": \"\"}}, \"type\": \"scattercarpet\"}], \"scattergeo\": [{\"marker\": {\"colorbar\": {\"outlinewidth\": 0, \"ticks\": \"\"}}, \"type\": \"scattergeo\"}], \"scattergl\": [{\"marker\": {\"colorbar\": {\"outlinewidth\": 0, \"ticks\": \"\"}}, \"type\": \"scattergl\"}], \"scattermapbox\": [{\"marker\": {\"colorbar\": {\"outlinewidth\": 0, \"ticks\": \"\"}}, \"type\": \"scattermapbox\"}], \"scatterpolar\": [{\"marker\": {\"colorbar\": {\"outlinewidth\": 0, \"ticks\": \"\"}}, \"type\": \"scatterpolar\"}], \"scatterpolargl\": [{\"marker\": {\"colorbar\": {\"outlinewidth\": 0, \"ticks\": \"\"}}, \"type\": \"scatterpolargl\"}], \"scatterternary\": [{\"marker\": {\"colorbar\": {\"outlinewidth\": 0, \"ticks\": \"\"}}, \"type\": \"scatterternary\"}], \"surface\": [{\"colorbar\": {\"outlinewidth\": 0, \"ticks\": \"\"}, \"colorscale\": [[0.0, \"#0d0887\"], [0.1111111111111111, \"#46039f\"], [0.2222222222222222, \"#7201a8\"], [0.3333333333333333, \"#9c179e\"], [0.4444444444444444, \"#bd3786\"], [0.5555555555555556, \"#d8576b\"], [0.6666666666666666, \"#ed7953\"], [0.7777777777777778, \"#fb9f3a\"], [0.8888888888888888, \"#fdca26\"], [1.0, \"#f0f921\"]], \"type\": \"surface\"}], \"table\": [{\"cells\": {\"fill\": {\"color\": \"#EBF0F8\"}, \"line\": {\"color\": \"white\"}}, \"header\": {\"fill\": {\"color\": \"#C8D4E3\"}, \"line\": {\"color\": \"white\"}}, \"type\": \"table\"}]}, \"layout\": {\"annotationdefaults\": {\"arrowcolor\": \"#2a3f5f\", \"arrowhead\": 0, \"arrowwidth\": 1}, \"autotypenumbers\": \"strict\", \"coloraxis\": {\"colorbar\": {\"outlinewidth\": 0, \"ticks\": \"\"}}, \"colorscale\": {\"diverging\": [[0, \"#8e0152\"], [0.1, \"#c51b7d\"], [0.2, \"#de77ae\"], [0.3, \"#f1b6da\"], [0.4, \"#fde0ef\"], [0.5, \"#f7f7f7\"], [0.6, \"#e6f5d0\"], [0.7, \"#b8e186\"], [0.8, \"#7fbc41\"], [0.9, \"#4d9221\"], [1, \"#276419\"]], \"sequential\": [[0.0, \"#0d0887\"], [0.1111111111111111, \"#46039f\"], [0.2222222222222222, \"#7201a8\"], [0.3333333333333333, \"#9c179e\"], [0.4444444444444444, \"#bd3786\"], [0.5555555555555556, \"#d8576b\"], [0.6666666666666666, \"#ed7953\"], [0.7777777777777778, \"#fb9f3a\"], [0.8888888888888888, \"#fdca26\"], [1.0, \"#f0f921\"]], \"sequentialminus\": [[0.0, \"#0d0887\"], [0.1111111111111111, \"#46039f\"], [0.2222222222222222, \"#7201a8\"], [0.3333333333333333, \"#9c179e\"], [0.4444444444444444, \"#bd3786\"], [0.5555555555555556, \"#d8576b\"], [0.6666666666666666, \"#ed7953\"], [0.7777777777777778, \"#fb9f3a\"], [0.8888888888888888, \"#fdca26\"], [1.0, \"#f0f921\"]]}, \"colorway\": [\"#636efa\", \"#EF553B\", \"#00cc96\", \"#ab63fa\", \"#FFA15A\", \"#19d3f3\", \"#FF6692\", \"#B6E880\", \"#FF97FF\", \"#FECB52\"], \"font\": {\"color\": \"#2a3f5f\"}, \"geo\": {\"bgcolor\": \"white\", \"lakecolor\": \"white\", \"landcolor\": \"#E5ECF6\", \"showlakes\": true, \"showland\": true, \"subunitcolor\": \"white\"}, \"hoverlabel\": {\"align\": \"left\"}, \"hovermode\": \"closest\", \"mapbox\": {\"style\": \"light\"}, \"paper_bgcolor\": \"white\", \"plot_bgcolor\": \"#E5ECF6\", \"polar\": {\"angularaxis\": {\"gridcolor\": \"white\", \"linecolor\": \"white\", \"ticks\": \"\"}, \"bgcolor\": \"#E5ECF6\", \"radialaxis\": {\"gridcolor\": \"white\", \"linecolor\": \"white\", \"ticks\": \"\"}}, \"scene\": {\"xaxis\": {\"backgroundcolor\": \"#E5ECF6\", \"gridcolor\": \"white\", \"gridwidth\": 2, \"linecolor\": \"white\", \"showbackground\": true, \"ticks\": \"\", \"zerolinecolor\": \"white\"}, \"yaxis\": {\"backgroundcolor\": \"#E5ECF6\", \"gridcolor\": \"white\", \"gridwidth\": 2, \"linecolor\": \"white\", \"showbackground\": true, \"ticks\": \"\", \"zerolinecolor\": \"white\"}, \"zaxis\": {\"backgroundcolor\": \"#E5ECF6\", \"gridcolor\": \"white\", \"gridwidth\": 2, \"linecolor\": \"white\", \"showbackground\": true, \"ticks\": \"\", \"zerolinecolor\": \"white\"}}, \"shapedefaults\": {\"line\": {\"color\": \"#2a3f5f\"}}, \"ternary\": {\"aaxis\": {\"gridcolor\": \"white\", \"linecolor\": \"white\", \"ticks\": \"\"}, \"baxis\": {\"gridcolor\": \"white\", \"linecolor\": \"white\", \"ticks\": \"\"}, \"bgcolor\": \"#E5ECF6\", \"caxis\": {\"gridcolor\": \"white\", \"linecolor\": \"white\", \"ticks\": \"\"}}, \"title\": {\"x\": 0.05}, \"xaxis\": {\"automargin\": true, \"gridcolor\": \"white\", \"linecolor\": \"white\", \"ticks\": \"\", \"title\": {\"standoff\": 15}, \"zerolinecolor\": \"white\", \"zerolinewidth\": 2}, \"yaxis\": {\"automargin\": true, \"gridcolor\": \"white\", \"linecolor\": \"white\", \"ticks\": \"\", \"title\": {\"standoff\": 15}, \"zerolinecolor\": \"white\", \"zerolinewidth\": 2}}}},                        {\"responsive\": true}                    ).then(function(){\n",
       "                            \n",
       "var gd = document.getElementById('e5a5cef6-7b63-41fe-b091-05ef1869f2e0');\n",
       "var x = new MutationObserver(function (mutations, observer) {{\n",
       "        var display = window.getComputedStyle(gd).display;\n",
       "        if (!display || display === 'none') {{\n",
       "            console.log([gd, 'removed!']);\n",
       "            Plotly.purge(gd);\n",
       "            observer.disconnect();\n",
       "        }}\n",
       "}});\n",
       "\n",
       "// Listen for the removal of the full notebook cells\n",
       "var notebookContainer = gd.closest('#notebook-container');\n",
       "if (notebookContainer) {{\n",
       "    x.observe(notebookContainer, {childList: true});\n",
       "}}\n",
       "\n",
       "// Listen for the clearing of the current output cell\n",
       "var outputEl = gd.closest('.output');\n",
       "if (outputEl) {{\n",
       "    x.observe(outputEl, {childList: true});\n",
       "}}\n",
       "\n",
       "                        })                };                });            </script>        </div>"
      ]
     },
     "metadata": {},
     "output_type": "display_data"
    }
   ],
   "source": [
    "df['industry'] = \"stock\"\n",
    "\n",
    "pie = px.sunburst(df, path=['industry','code'], values='turnover') #animation_frame=df.dt.astype(str),\n",
    "pie.show()"
   ]
  },
  {
   "cell_type": "code",
   "execution_count": null,
   "id": "latest-matter",
   "metadata": {},
   "outputs": [],
   "source": [
    "df = hkex.get_price(bdates[4])\n",
    "print(df)\n",
    "df = df.nlargest(topN, ['turnover'])\n",
    "pie = px.pie(df, names='code', values='turnover', title=f\"Turnover Share of the top {topN} as of date {bdates[4]:%Y-%m-%d}\")\n",
    "pie.update_traces(textposition='inside', textinfo='percent+label')\n",
    "\n",
    "pie.show()"
   ]
  },
  {
   "cell_type": "code",
   "execution_count": null,
   "id": "residential-engagement",
   "metadata": {},
   "outputs": [],
   "source": [
    "df = hkex.get_price(bdates[3])\n",
    "df = df.nlargest(topN, ['turnover'])\n",
    "pie = px.pie(df, names='code', values='turnover', title=f\"Turnover Share of the top {topN} as of date {bdates[3]:%Y-%m-%d}\")\n",
    "pie.update_traces(textposition='inside', textinfo='percent+label')\n",
    "\n",
    "pie.show()"
   ]
  },
  {
   "cell_type": "code",
   "execution_count": null,
   "id": "alive-tuner",
   "metadata": {},
   "outputs": [],
   "source": [
    "df = hkex.get_price(bdates[2])\n",
    "df = df.nlargest(topN, ['turnover'])\n",
    "pie = px.pie(df, names='code', values='turnover', title=f\"Turnover Share of the top {topN} as of date {bdates[2]:%Y-%m-%d}\")\n",
    "pie.update_traces(textposition='inside', textinfo='percent+label')\n",
    "\n",
    "pie.show()"
   ]
  },
  {
   "cell_type": "code",
   "execution_count": null,
   "id": "orange-seating",
   "metadata": {},
   "outputs": [],
   "source": [
    "df = hkex.get_price(bdates[1])\n",
    "df = df.nlargest(topN, ['turnover'])\n",
    "pie = px.pie(df, names='code', values='turnover', title=f\"Turnover Share of the top {topN} as of date {bdates[1]:%Y-%m-%d}\")\n",
    "pie.update_traces(textposition='inside', textinfo='percent+label')\n",
    "\n",
    "pie.show()"
   ]
  },
  {
   "cell_type": "code",
   "execution_count": null,
   "id": "welcome-championship",
   "metadata": {},
   "outputs": [],
   "source": [
    "df = hkex.get_price(bdates[0])\n",
    "df = df.nlargest(topN, ['turnover'])\n",
    "pie = px.pie(df, names='code', values='turnover', title=f\"Turnover Share of the top {topN} as of date {bdates[0]:%Y-%m-%d}\")\n",
    "pie.update_traces(textposition='inside', textinfo='percent+label')\n",
    "\n",
    "pie.show()"
   ]
  },
  {
   "cell_type": "code",
   "execution_count": null,
   "id": "medium-closer",
   "metadata": {},
   "outputs": [],
   "source": []
  }
 ],
 "metadata": {
  "kernelspec": {
   "display_name": "Python 3",
   "language": "python",
   "name": "python3"
  },
  "language_info": {
   "codemirror_mode": {
    "name": "ipython",
    "version": 3
   },
   "file_extension": ".py",
   "mimetype": "text/x-python",
   "name": "python",
   "nbconvert_exporter": "python",
   "pygments_lexer": "ipython3",
   "version": "3.8.1"
  }
 },
 "nbformat": 4,
 "nbformat_minor": 5
}
