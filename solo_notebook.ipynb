{
 "cells": [
  {
   "cell_type": "markdown",
   "id": "supposed-freeze",
   "metadata": {},
   "source": [
    "# Solomon's notebook - Turnover\n",
    "## To visualize percentage share of most traded stock in HKEX for the last 5 trading days."
   ]
  },
  {
   "cell_type": "code",
   "execution_count": null,
   "id": "eleven-advertising",
   "metadata": {
    "scrolled": true
   },
   "outputs": [],
   "source": [
    "from datetime import datetime, timedelta\n",
    "import pandas as pd\n",
    "import plotly.express as px\n",
    "\n",
    "from lib import hkex\n",
    "from lib import holidays\n",
    "\n",
    "today = datetime.now()\n",
    "yesterday = today - timedelta(days=1)\n",
    "num_days = 5\n",
    "\n",
    "try:\n",
    "    bdates = pd.bdate_range(end=today, periods=num_days, holidays=holidays.hk_holidays, freq='C')[::-1]\n",
    "    dfs = list(map(hkex.get_price, bdates))\n",
    "except hkex.NoQuotationsException:\n",
    "    bdates = pd.bdate_range(end=yesterday, periods=num_days, holidays=holidays.hk_holidays, freq='C')[::-1]\n",
    "    dfs = list(map(hkex.get_price, bdates))"
   ]
  },
  {
   "cell_type": "code",
   "execution_count": null,
   "metadata": {},
   "outputs": [],
   "source": [
    "topN = 20\n",
    "code_industry_map = hkex.get_all_industry()\n",
    "\n",
    "for d, df in zip(bdates, dfs):\n",
    "    #dfn = df.nlargest(topN, ['turnover'])\n",
    "    dfn = df\n",
    "    dfn = pd.merge(dfn, code_industry_map, how=\"left\", on=['code'])\n",
    "    dfn['industry'] = dfn['industry'].fillna('Others')\n",
    "    pie = px.sunburst(dfn, path=['industry', 'code'], values='turnover',\n",
    "                           title=f\"Turnover Share of the top {topN} as of date {d:%Y-%m-%d}\")\n",
    "    pie.show()"
   ]
  }
 ],
 "metadata": {
  "kernelspec": {
   "name": "python3",
   "display_name": "Python 3",
   "language": "python"
  },
  "language_info": {
   "codemirror_mode": {
    "name": "ipython",
    "version": 3
   },
   "file_extension": ".py",
   "mimetype": "text/x-python",
   "name": "python",
   "nbconvert_exporter": "python",
   "pygments_lexer": "ipython3",
   "version": "3.8.1-final"
  }
 },
 "nbformat": 4,
 "nbformat_minor": 5
}