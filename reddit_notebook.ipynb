{
 "metadata": {
  "language_info": {
   "codemirror_mode": {
    "name": "ipython",
    "version": 3
   },
   "file_extension": ".py",
   "mimetype": "text/x-python",
   "name": "python",
   "nbconvert_exporter": "python",
   "pygments_lexer": "ipython3",
   "version": "3.8.1-final"
  },
  "orig_nbformat": 2,
  "kernelspec": {
   "name": "python3",
   "display_name": "Python 3",
   "language": "python"
  }
 },
 "nbformat": 4,
 "nbformat_minor": 2,
 "cells": [
  {
   "source": [
    "# Can we monitor what7 redditors say recently?\n",
    "\n",
    "https://github.com/pushshift/api/blob/master/README.md\n",
    "\n",
    "https://github.com/dmarx/psaw"
   ],
   "cell_type": "markdown",
   "metadata": {}
  },
  {
   "cell_type": "code",
   "execution_count": null,
   "metadata": {
    "tags": []
   },
   "outputs": [],
   "source": [
    "import requests\n",
    "import json\n",
    "import pandas as pd\n",
    "from pmaw import PushshiftAPI\n",
    "\n",
    "kw = 'GME'\n",
    "subreddit='wallstreetbets'\n",
    "obs_hrs = 24\n",
    "\n",
    "curr_obs_end = pd.datetime.now().replace(minute=0, second=0, microsecond=0)\n",
    "curr_obs_start = pd.datetime.timestamp(obs_end - pd.Timedelta(f\"{obs_hrs}h\"))\n",
    "\n",
    "prev_obs_end = curr_obs_end - pd.Timedelta(\"24h\")\n",
    "prev_obs_start = curr_obs_start - 86400\n",
    "\n",
    "api = PushshiftAPI()\n",
    "curr_gen = api.search_comments(q=kw, subreddit=subreddit, \n",
    "                               after=int(curr_obs_start), \n",
    "                               before=int(curr_obs_end.timestamp()))\n",
    "curr_df = pd.DataFrame([result for result in curr_gen])\n",
    "\n",
    "prev_gen = api.search_comments(q=kw, subreddit=subreddit, \n",
    "                               after=int(prev_obs_start), \n",
    "                               before=int(prev_obs_end.timestamp()))\n",
    "prev_df = pd.DataFrame([result for result in prev_gen])"
   ]
  },
  {
   "cell_type": "code",
   "execution_count": null,
   "metadata": {},
   "outputs": [],
   "source": [
    "curr_df['set'] = \"Today\"\n",
    "prev_df['set'] = \"Yesterday\"\n",
    "prev_df['created_utc'] = prev_df['created_utc'] + 86400\n",
    "\n",
    "df = pd.concat([curr_df, prev_df], ignore_index=True)"
   ]
  },
  {
   "cell_type": "code",
   "execution_count": null,
   "metadata": {},
   "outputs": [],
   "source": [
    "df['created_ts'] = pd.to_datetime(df['created_utc'], unit='s', utc=True)\n",
    "df['created_ts'] = df['created_ts'].dt.tz_convert('Asia/Hong_Kong')"
   ]
  },
  {
   "cell_type": "code",
   "execution_count": null,
   "metadata": {},
   "outputs": [],
   "source": [
    "import plotly.express as px\n",
    "\n",
    "hist = px.histogram(df, x='created_ts', color='set', barmode=\"overlay\", #nbins=obs_hrs,\n",
    "                    title=f\"Occurrence of {kw} in r/{subreddit} in the last {obs_hrs} hours\")\n",
    "hist.show()"
   ]
  }
 ]
}