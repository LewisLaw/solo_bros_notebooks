{
 "metadata": {
  "language_info": {
   "codemirror_mode": {
    "name": "ipython",
    "version": 3
   },
   "file_extension": ".py",
   "mimetype": "text/x-python",
   "name": "python",
   "nbconvert_exporter": "python",
   "pygments_lexer": "ipython3",
   "version": "3.8.1-final"
  },
  "orig_nbformat": 2,
  "kernelspec": {
   "name": "python3",
   "display_name": "Python 3",
   "language": "python"
  }
 },
 "nbformat": 4,
 "nbformat_minor": 2,
 "cells": [
  {
   "source": [
    "# Can we monitor what7 redditors say recently?\n",
    "\n",
    "https://github.com/pushshift/api/blob/master/README.md\n",
    "https://github.com/dmarx/psaw"
   ],
   "cell_type": "markdown",
   "metadata": {}
  },
  {
   "cell_type": "code",
   "execution_count": null,
   "metadata": {
    "tags": []
   },
   "outputs": [],
   "source": [
    "import requests\n",
    "import json\n",
    "import pandas as pd\n",
    "from psaw import PushshiftAPI\n",
    "\n",
    "kw = 'GME'\n",
    "subreddit='wallstreetbets'\n",
    "hrs = 12\n",
    "\n",
    "api = PushshiftAPI()\n",
    "gen = api.search_comments(q=kw, subreddit=subreddit, after=f\"{hrs}h\")\n",
    "df = pd.DataFrame([result.d_ for result in gen])"
   ]
  },
  {
   "cell_type": "code",
   "execution_count": null,
   "metadata": {},
   "outputs": [],
   "source": [
    "df['created_ts'] = pd.to_datetime(df['created'], unit='s')\n",
    "df['created_hours'] = df['created_ts'].dt.to_period('H').astype(str)"
   ]
  },
  {
   "cell_type": "code",
   "execution_count": null,
   "metadata": {},
   "outputs": [],
   "source": [
    "import plotly.express as px\n",
    "\n",
    "hist = px.histogram(df[['created_hours']], x='created_hours',\n",
    "                    title=f\"Occurrence of {kw} in r/{subreddit} in the last {hrs} hours\")\n",
    "hist.show()"
   ]
  }
 ]
}