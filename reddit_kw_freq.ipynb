{
 "cells": [
  {
   "cell_type": "code",
   "execution_count": 1,
   "metadata": {},
   "outputs": [
    {
     "name": "stderr",
     "output_type": "stream",
     "text": [
      "/Users/lewis/Workspace/solo/solo_bros_notebooks/.venv/lib/python3.8/site-packages/pandas/compat/__init__.py:97: UserWarning: Could not import the lzma module. Your installed Python is incomplete. Attempting to use lzma compression will result in a RuntimeError.\n",
      "  warnings.warn(msg)\n"
     ]
    },
    {
     "data": {
      "application/vnd.jupyter.widget-view+json": {
       "model_id": "d2155ab5fc6541a0b329929a5fcd29bd",
       "version_major": 2,
       "version_minor": 0
      },
      "text/plain": [
       "Text(value='', description='Keyword: ', placeholder='Type your keywords here')"
      ]
     },
     "metadata": {},
     "output_type": "display_data"
    },
    {
     "data": {
      "application/vnd.jupyter.widget-view+json": {
       "model_id": "1f2c0b35512e48aba1c54eda297eac79",
       "version_major": 2,
       "version_minor": 0
      },
      "text/plain": [
       "Dropdown(description='Subreddit: ', options=('wallstreetbets', 'text'), value='wallstreetbets')"
      ]
     },
     "metadata": {},
     "output_type": "display_data"
    },
    {
     "name": "stdout",
     "output_type": "stream",
     "text": [
      "Total:: Success Rate: 100.00% - Requests: 1 - Batches: 1\n",
      "22489 results available in Pushshift\n",
      "Setting limit to 22489\n"
     ]
    }
   ],
   "source": [
    "import requests\n",
    "import json\n",
    "import pandas as pd\n",
    "from datetime import datetime as dt\n",
    "from pmaw import PushshiftAPI\n",
    "import plotly.express as px\n",
    "\n",
    "import ipywidgets as widgets\n",
    "from IPython.display import display\n",
    "\n",
    "plot_output = widgets.Output()\n",
    "\n",
    "def display_kw_freq(kw, subreddit, obs_hrs = 24):\n",
    "\n",
    "    plot_output.clear_output()\n",
    "\n",
    "    curr_obs_end = dt.timestamp(dt.now())#.replace(minute=0, second=0, microsecond=0))\n",
    "    curr_obs_start = curr_obs_end - (obs_hrs * 3600)\n",
    "    prev_obs_end = curr_obs_end - 86400\n",
    "    prev_obs_start = curr_obs_start - 86400\n",
    "\n",
    "    api = PushshiftAPI()\n",
    "    gen = api.search_comments(q=kw, subreddit=subreddit, \n",
    "                            after=int(prev_obs_start), \n",
    "                            before=int(curr_obs_end))\n",
    "    df = pd.DataFrame([result for result in gen])\n",
    "\n",
    "    df.loc[df['created_utc'].between(curr_obs_start, curr_obs_end), 'set'] = \"Today\"\n",
    "    df.loc[df['created_utc'].between(prev_obs_start, prev_obs_end), 'set'] = \"Yesterday\"\n",
    "    df = df[df['set'].notnull()]\n",
    "    df['created_utc'] = (df['set'] == \"Yesterday\") * 86400 + df['created_utc']\n",
    "\n",
    "    df['created_dt'] = pd.to_datetime(df['created_utc'], unit='s', utc=True)\n",
    "    df['created_dt'] = df['created_dt'].dt.tz_convert('Asia/Hong_Kong')\n",
    "\n",
    "    hist = px.histogram(df, x='created_dt', color='set', barmode=\"overlay\", #nbins=obs_hrs,\n",
    "                        title=f\"Occurrence of {kw} in r/{subreddit} in the last {obs_hrs} hours\")\n",
    "    with plot_output:\n",
    "        hist.show()\n",
    "\n",
    "keyword_text = widgets.Text(\n",
    "    value='GME',\n",
    "    placeholder='Type your keywords here',\n",
    "    description='Keyword: '\n",
    ")\n",
    "\n",
    "subreddits = ['wallstreetbets', 'text']\n",
    "subreddits_dropdown = widgets.Dropdown(\n",
    "    options=subreddits,\n",
    "    description='Subreddit: ')\n",
    "\n",
    "display(keyword_text, subreddits_dropdown)\n",
    "\n",
    "def keyword_text_eventhandler(change):\n",
    "    display_kw_freq(change.new, subreddits_dropdown.value)\n",
    "def subreddits_dropdown_eventhandler(change):\n",
    "    display_kw_freq(keyword_text.value, change.new)\n",
    "    print(change.new)\n",
    "\n",
    "keyword_text.observe(keyword_text_eventhandler, names='value')\n",
    "subreddits_dropdown.observe(subreddits_dropdown_eventhandler, names='value')"
   ]
  },
  {
   "cell_type": "code",
   "execution_count": 2,
   "metadata": {},
   "outputs": [
    {
     "data": {
      "application/vnd.jupyter.widget-view+json": {
       "model_id": "51b4a3a0e84c4392a1f89c39c06e677e",
       "version_major": 2,
       "version_minor": 0
      },
      "text/plain": [
       "Output()"
      ]
     },
     "metadata": {},
     "output_type": "display_data"
    }
   ],
   "source": [
    "display(plot_output)"
   ]
  }
 ],
 "metadata": {
  "kernelspec": {
   "display_name": "Python 3",
   "language": "python",
   "name": "python3"
  },
  "language_info": {
   "codemirror_mode": {
    "name": "ipython",
    "version": 3
   },
   "file_extension": ".py",
   "mimetype": "text/x-python",
   "name": "python",
   "nbconvert_exporter": "python",
   "pygments_lexer": "ipython3",
   "version": "3.8.1"
  }
 },
 "nbformat": 4,
 "nbformat_minor": 2
}