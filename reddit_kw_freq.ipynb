{
 "metadata": {
  "language_info": {
   "codemirror_mode": {
    "name": "ipython",
    "version": 3
   },
   "file_extension": ".py",
   "mimetype": "text/x-python",
   "name": "python",
   "nbconvert_exporter": "python",
   "pygments_lexer": "ipython3",
   "version": "3.8.1-final"
  },
  "orig_nbformat": 2,
  "kernelspec": {
   "name": "python3",
   "display_name": "Python 3",
   "language": "python"
  }
 },
 "nbformat": 4,
 "nbformat_minor": 2,
 "cells": [
  {
   "source": [
    "# Can we monitor what7 redditors say recently?\n",
    "\n",
    "https://github.com/pushshift/api/blob/master/README.md\n",
    "\n",
    "https://github.com/dmarx/psaw"
   ],
   "cell_type": "markdown",
   "metadata": {}
  },
  {
   "cell_type": "code",
   "execution_count": null,
   "metadata": {
    "tags": []
   },
   "outputs": [],
   "source": [
    "import requests\n",
    "import json\n",
    "import pandas as pd\n",
    "from datetime import datetime as dt\n",
    "from pmaw import PushshiftAPI\n",
    "import plotly.express as px\n",
    "\n",
    "import ipywidgets as widgets\n",
    "from IPython.display import display\n",
    "\n",
    "plot_output = widgets.Output()\n",
    "\n",
    "def display_kw_freq(kw, subreddit, obs_hrs = 24):\n",
    "\n",
    "    plot_output.clear_output()\n",
    "\n",
    "    curr_obs_end = dt.timestamp(dt.now())#.replace(minute=0, second=0, microsecond=0))\n",
    "    curr_obs_start = curr_obs_end - (obs_hrs * 3600)\n",
    "    prev_obs_end = curr_obs_end - 86400\n",
    "    prev_obs_start = curr_obs_start - 86400\n",
    "\n",
    "    api = PushshiftAPI()\n",
    "    curr_gen = api.search_comments(q=kw, subreddit=subreddit, \n",
    "                                   after=int(curr_obs_start), \n",
    "                                   before=int(curr_obs_end))\n",
    "    prev_gen = api.search_comments(q=kw, subreddit=subreddit, \n",
    "                                   after=int(prev_obs_start), \n",
    "                                   before=int(prev_obs_end))\n",
    "    curr_df = pd.DataFrame([result for result in curr_gen])\n",
    "    prev_df = pd.DataFrame([result for result in prev_gen])\n",
    "\n",
    "    curr_df['set'] = 'Today'\n",
    "    prev_df['set'] = 'Yesterday'\n",
    "    prev_df['created_utc'] = df['created_utc'] + 86400\n",
    "    df = pd.concat([curr_df, prev_df], ignore_index=False)\n",
    "\n",
    "    df['created_dt'] = pd.to_datetime(df['created_utc'], unit='s', utc=True)\n",
    "    df['created_dt'] = df['created_dt'].dt.tz_convert('Asia/Hong_Kong')\n",
    "\n",
    "    hist = px.histogram(df, x='created_dt', color='set', barmode=\"overlay\", #nbins=obs_hrs,\n",
    "                        title=f\"Occurrence of {kw} in r/{subreddit} in the last {obs_hrs} hours\")\n",
    "    with plot_output:\n",
    "        hist.show()\n",
    "\n",
    "keyword_text = widgets.Text(\n",
    "    value='GME',\n",
    "    placeholder='Type your keywords here',\n",
    "    description='Keyword: '\n",
    ")\n",
    "\n",
    "subreddits = ['wallstreetbets', 'investing', 'finance']\n",
    "subreddits_dropdown = widgets.Dropdown(\n",
    "    options=subreddits,\n",
    "    description='Subreddit: '\n",
    ")\n",
    "\n",
    "refresh_btn = widgets.Button(\n",
    "    description='Refresh'\n",
    ")\n",
    "\n",
    "control_box = widgets.TwoByTwoLayout(top_left=keyword_text,\n",
    "                                     bottom_left=subreddits_dropdown,\n",
    "                                     bottom_right=refresh_btn,\n",
    "                                     merge=False)\n",
    "display(control_box)\n",
    "\n",
    "def refresh_btn_on_click_event(_):\n",
    "    display_kw_freq(keyword_text.value, subreddits_dropdown.value)\n",
    "\n",
    "refresh_btn.on_click(refresh_btn_on_click_event)\n",
    "#def keyword_text_eventhandler(change):\n",
    "#    display_kw_freq(change.new, subreddits_dropdown.value)\n",
    "#def subreddits_dropdown_eventhandler(change):\n",
    "#    display_kw_freq(keyword_text.value, change.new)\n",
    "#    print(change.new)\n",
    "\n",
    "#keyword_text.observe(keyword_text_eventhandler, names='value')\n",
    "#subreddits_dropdown.observe(subreddits_dropdown_eventhandler, names='value')"
   ]
  },
  {
   "cell_type": "code",
   "execution_count": null,
   "metadata": {},
   "outputs": [],
   "source": [
    "display(plot_output)"
   ]
  }
 ]
}